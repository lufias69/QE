{
 "cells": [
  {
   "cell_type": "code",
   "execution_count": 3,
   "metadata": {},
   "outputs": [],
   "source": [
    "import requests\n",
    "import json\n",
    "# from modulku import StemNstopW as stm\n",
    "import os\n",
    "# dir_path = os.path.dirname(os.path.realpath(__file__))"
   ]
  },
  {
   "cell_type": "code",
   "execution_count": 4,
   "metadata": {},
   "outputs": [],
   "source": [
    "def save(data, nama):\n",
    "    with open('/data/'+nama, 'w') as f:#dir_path+\n",
    "        json.dump(data, f)\n",
    "\n",
    "def get_data(name):\n",
    "    with open(\"/data/\"+str(name), \"r\") as filename:#dir_path+\n",
    "        return json.load(filename)"
   ]
  },
  {
   "cell_type": "code",
   "execution_count": 25,
   "metadata": {},
   "outputs": [],
   "source": [
    "cek = \"pedis\""
   ]
  },
  {
   "cell_type": "code",
   "execution_count": 68,
   "metadata": {},
   "outputs": [],
   "source": [
    "\n",
    "\n",
    "\n",
    "\n",
    "    \n"
   ]
  },
  {
   "cell_type": "code",
   "execution_count": 69,
   "metadata": {},
   "outputs": [],
   "source": [
    "# find_sinonim_kata(\"kacau\")"
   ]
  },
  {
   "cell_type": "code",
   "execution_count": 71,
   "metadata": {},
   "outputs": [
    {
     "data": {
      "text/plain": [
       "{'lestari': 'tetap',\n",
       " 'selalu': 'tinggal',\n",
       " 'terus': 'tetap',\n",
       " 'antap': 'diam',\n",
       " 'bungkam': 'diam',\n",
       " 'hening': 'diam',\n",
       " 'kosong': 'diam',\n",
       " 'lengang': 'diam',\n",
       " 'mematung': 'diam',\n",
       " 'membatu': 'diam',\n",
       " 'membisu': 'diam',\n",
       " 'pasif': 'diam',\n",
       " 'senyap': 'diam',\n",
       " 'sepi': 'diam',\n",
       " 'stagnan': 'diam',\n",
       " 'statis': 'diam',\n",
       " 'sunyi': 'diam',\n",
       " 'tenang': 'diam',\n",
       " 'masih': 'tinggal',\n",
       " 'melupakan': 'tinggal',\n",
       " 'terbelakang': 'tinggal',\n",
       " 'terpaku': 'mematung'}"
      ]
     },
     "execution_count": 71,
     "metadata": {},
     "output_type": "execute_result"
    }
   ],
   "source": [
    "reverser_all(find_sinonim_kalimat(\"tetap diam tinggal lapar mematung\"))"
   ]
  },
  {
   "cell_type": "code",
   "execution_count": null,
   "metadata": {},
   "outputs": [],
   "source": []
  },
  {
   "cell_type": "code",
   "execution_count": 72,
   "metadata": {},
   "outputs": [
    {
     "data": {
      "text/plain": [
       "'/home/lufias/Pythonproject/QE'"
      ]
     },
     "execution_count": 72,
     "metadata": {},
     "output_type": "execute_result"
    }
   ],
   "source": [
    "pwd"
   ]
  },
  {
   "cell_type": "code",
   "execution_count": 73,
   "metadata": {},
   "outputs": [
    {
     "name": "stdout",
     "output_type": "stream",
     "text": [
      "\u001b[0m\u001b[01;34mdata\u001b[0m/  qe.py  Untitled.ipynb\r\n"
     ]
    }
   ],
   "source": [
    "ls"
   ]
  },
  {
   "cell_type": "code",
   "execution_count": 1,
   "metadata": {},
   "outputs": [],
   "source": [
    "import qe"
   ]
  },
  {
   "cell_type": "code",
   "execution_count": 2,
   "metadata": {},
   "outputs": [],
   "source": [
    "sim = qe.QE()"
   ]
  },
  {
   "cell_type": "code",
   "execution_count": 7,
   "metadata": {},
   "outputs": [
    {
     "data": {
      "text/plain": [
       "'kodok tinggal diam'"
      ]
     },
     "execution_count": 7,
     "metadata": {},
     "output_type": "execute_result"
    }
   ],
   "source": [
    "sim.qe_process(\"katak tinggal diam\", \"kodok terbelakang pasif\")"
   ]
  },
  {
   "cell_type": "code",
   "execution_count": 9,
   "metadata": {},
   "outputs": [
    {
     "data": {
      "text/plain": [
       "{'gelambir': 'katak',\n",
       " 'loncek': 'katak',\n",
       " 'pendek': 'katak',\n",
       " 'masih': 'tinggal',\n",
       " 'melupakan': 'tinggal',\n",
       " 'selalu': 'tinggal',\n",
       " 'terbelakang': 'tinggal',\n",
       " 'antap': 'diam',\n",
       " 'bungkam': 'diam',\n",
       " 'hening': 'diam',\n",
       " 'kosong': 'diam',\n",
       " 'lengang': 'diam',\n",
       " 'mematung': 'diam',\n",
       " 'membatu': 'diam',\n",
       " 'membisu': 'diam',\n",
       " 'pasif': 'diam',\n",
       " 'senyap': 'diam',\n",
       " 'sepi': 'diam',\n",
       " 'stagnan': 'diam',\n",
       " 'statis': 'diam',\n",
       " 'sunyi': 'diam',\n",
       " 'tenang': 'diam'}"
      ]
     },
     "execution_count": 9,
     "metadata": {},
     "output_type": "execute_result"
    }
   ],
   "source": [
    "sim.corpus"
   ]
  },
  {
   "cell_type": "code",
   "execution_count": 8,
   "metadata": {},
   "outputs": [],
   "source": [
    "# sim.delete_corpus()"
   ]
  },
  {
   "cell_type": "code",
   "execution_count": null,
   "metadata": {},
   "outputs": [],
   "source": []
  },
  {
   "cell_type": "code",
   "execution_count": null,
   "metadata": {},
   "outputs": [],
   "source": []
  }
 ],
 "metadata": {
  "kernelspec": {
   "display_name": "Python 3",
   "language": "python",
   "name": "python3"
  },
  "language_info": {
   "codemirror_mode": {
    "name": "ipython",
    "version": 3
   },
   "file_extension": ".py",
   "mimetype": "text/x-python",
   "name": "python",
   "nbconvert_exporter": "python",
   "pygments_lexer": "ipython3",
   "version": "3.7.6"
  }
 },
 "nbformat": 4,
 "nbformat_minor": 4
}
